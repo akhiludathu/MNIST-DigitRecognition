{
 "cells": [
  {
   "cell_type": "markdown",
   "metadata": {},
   "source": [
    "With a very simple Convolutional Nueral Network using Keras I was able to score *0.995* accuracy on my training set and *0.9945* accuracy on my validation set. My best results were found splitting the first 2000 images of the training data into my validation set. I used a very straightforward archiecture:\n",
    "\n",
    "- Conv -> Conv ->Pool -> Dropout -> Flatten -> Hidden -> Dropout -> Output. \n",
    "\n",
    "The best results were rendered with the Adadelta optimizer https://arxiv.org/pdf/1212.5701v1.pdf\n",
    "\n",
    "**NOTE:** With this network each epoch takes roughly 180-200 seconds, and due to Kaggle holding a restriction of 1200 seconds, *20 minutes*, I only ran this kernel with 6 epochs to avoid crashing. My Kaggle submission scored **0.98657**  with 25 epochs which took about an hour to run (140s/epoch) on a standard Macbook Pro (intel Core i5)"
   ]
  },
  {
   "cell_type": "code",
   "execution_count": null,
   "metadata": {
    "collapsed": true
   },
   "outputs": [],
   "source": [
    "import pandas as pd\n",
    "from matplotlib import pyplot as plt\n",
    "from matplotlib import cm\n",
    "from keras.models import Sequential\n",
    "from keras.layers import Dense, Dropout, Flatten\n",
    "from keras.layers import Convolution2D, MaxPooling2D\n",
    "from keras.optimizers import SGD\n",
    "from keras.constraints import maxnorm\n",
    "from keras.utils import np_utils\n",
    "from sklearn.preprocessing import StandardScaler"
   ]
  },
  {
   "cell_type": "markdown",
   "metadata": {},
   "source": [
    "**Data:** *42,000* input vectors each of size *784* represented with its own grayscale intensity\n",
    "\n",
    "Split the first *2000* examples, *about 5% of our data*, to be our validation set and everything after will be used for training. \n",
    "\n",
    "Call Sklearns *StandardScaler()* for zero mean and unit variance scaling to transform the data."
   ]
  },
  {
   "cell_type": "code",
   "execution_count": null,
   "metadata": {
    "collapsed": true
   },
   "outputs": [],
   "source": [
    "# load data\n",
    "data = pd.read_csv('../input/train.csv') # 42000x784\n",
    "target = data.pop('label').values # (42000,)\n",
    "y_train = target[2000:] # (37800,)\n",
    "y_valid = target[:2000] # (8000,)\n",
    "X_train = data[2000:].values.astype('float32') # (34000,784)\n",
    "X_valid = data[:2000].values.astype('float32') # (8000, 784)\n",
    "# preprocessing\n",
    "X_train = StandardScaler().fit(X_train).transform(X_train)\n",
    "X_valid = StandardScaler().fit(X_valid).transform(X_valid)"
   ]
  },
  {
   "cell_type": "markdown",
   "metadata": {},
   "source": [
    "Reshape the training and validation inputs from *756* input vectors to *28x28* matrices for compatibility with Keras. \n",
    "\n",
    "Call *to_categorical()* to transform each target into one hot vector notation for classification"
   ]
  },
  {
   "cell_type": "code",
   "execution_count": null,
   "metadata": {
    "collapsed": true
   },
   "outputs": [],
   "source": [
    "X_train = X_train.reshape(-1, 28, 28, 1) # (40000, 28, 28, 1)\n",
    "X_valid = X_valid.reshape(-1, 28, 28, 1) # (2000, 28, 28, 1)\n",
    "\n",
    "# one hot vector utility\n",
    "y_train = np_utils.to_categorical(y_train, 10)\n",
    "y_valid = np_utils.to_categorical(y_valid, 10)"
   ]
  },
  {
   "cell_type": "markdown",
   "metadata": {},
   "source": [
    "Visualize the first 9 images from our training set and their corresponding labels with their grayscale intensities\n",
    "\n",
    "*Note:* When plotting we have to reshape the dimensions of our training images to 1x28x28 matrices for them to be represented in their proper greyscale format. We have to initialize the images to 28x28x1 to match the channel dimensions for Keras' theano backend."
   ]
  },
  {
   "cell_type": "code",
   "execution_count": null,
   "metadata": {
    "collapsed": true
   },
   "outputs": [],
   "source": [
    "for i in range(9):\n",
    "    plt.subplot(331+i)\n",
    "    plt.imshow(X_train.reshape(-1,1,28,28)[i][0], cmap=cm.binary)\n",
    "plt.show()\n",
    "print(target[2000:2009])"
   ]
  },
  {
   "cell_type": "markdown",
   "metadata": {},
   "source": [
    "**Convolutional architecture:** Conv -> Conv ->Pool -> Dropout -> Flatten -> Hidden -> Dropout -> Output. "
   ]
  },
  {
   "cell_type": "code",
   "execution_count": null,
   "metadata": {
    "collapsed": true
   },
   "outputs": [],
   "source": [
    "# Convolutional architecture ~conv, conv, pool, drop, flatten, dense, drop, dense~\n",
    "model = Sequential()\n",
    "model.add(Convolution2D(32, 3, 3, input_shape=(28,28,1), activation='relu',\n",
    "                       border_mode = 'valid'))\n",
    "model.add(Convolution2D(32, 3, 3, border_mode='same'))\n",
    "model.add(MaxPooling2D(pool_size=(2,2), dim_ordering='th'))\n",
    "model.add(Dropout(0.3))\n",
    "model.add(Flatten())\n",
    "model.add(Dense(128, activation='relu'))\n",
    "model.add(Dropout(0.5))\n",
    "model.add(Dense(10, activation='softmax'))"
   ]
  },
  {
   "cell_type": "markdown",
   "metadata": {},
   "source": [
    "among *RMSprop*, *Adam*, *Adagrad*, *SGD*, *adadelta*, the best optimizer for this particular model was ***Adadelta***"
   ]
  },
  {
   "cell_type": "code",
   "execution_count": null,
   "metadata": {
    "collapsed": true
   },
   "outputs": [],
   "source": [
    "num_epochs = 6\n",
    "model.compile(optimizer='adadelta', loss='categorical_crossentropy', metrics=['accuracy'])"
   ]
  },
  {
   "cell_type": "markdown",
   "metadata": {},
   "source": [
    "**mini batches:** *128*\n",
    "\n",
    "**epochs:** *6*"
   ]
  },
  {
   "cell_type": "code",
   "execution_count": null,
   "metadata": {
    "collapsed": true
   },
   "outputs": [],
   "source": [
    "hist = model.fit(X_train,y_train, batch_size=128, nb_epoch=6, \n",
    "                validation_data=(X_valid,y_valid))\n",
    "scores = model.evaluate(X_valid, y_valid, verbose=0)\n",
    "\n",
    "\n",
    "plt.plot(hist.history['loss'])\n",
    "plt.plot(hist.history['val_loss'])\n",
    "plt.title('Loss Rate')\n",
    "plt.ylabel('Loss')\n",
    "plt.xlabel('Training interations')\n",
    "plt.legend(['Training', 'Testing'], loc='upper left')\n",
    "plt.show()\n",
    "#plt.savefig('MNIST_loss_plot1.png')\n",
    "\n",
    "plt.plot(hist.history['val_acc'])\n",
    "plt.title('Accuracy Rate')\n",
    "plt.ylabel('Accuracy %')\n",
    "plt.xlabel('Training iterations')\n",
    "plt.legend(['Testing'], loc='upper left')\n",
    "plt.show()\n",
    "#plt.savefig('MNIST_acc_plot1.png')"
   ]
  },
  {
   "cell_type": "code",
   "execution_count": null,
   "metadata": {
    "collapsed": true
   },
   "outputs": [],
   "source": [
    "# load test data\n",
    "test_data = pd.read_csv('../input/test.csv').values.astype('float32')\n",
    "test_data = StandardScaler().fit(test_data).transform(test_data)\n",
    "test_data = test_data.reshape(-1,28,28,1)"
   ]
  },
  {
   "cell_type": "code",
   "execution_count": null,
   "metadata": {
    "collapsed": true
   },
   "outputs": [],
   "source": [
    "# predictive model\n",
    "test_submission = model.predict_classes(test_data, verbose=2)"
   ]
  },
  {
   "cell_type": "markdown",
   "metadata": {},
   "source": [
    "We can print some of images from the test set and print the corresponding predicttions to get a sense of how good our model really wasWe can print some of images from the test set and print the corresponding predicttions to get a sense of how good our model really was"
   ]
  },
  {
   "cell_type": "code",
   "execution_count": null,
   "metadata": {
    "collapsed": true
   },
   "outputs": [],
   "source": [
    "for i in range(9):\n",
    "    plt.subplot(330+i+1)\n",
    "    plt.imshow(test_data.reshape(-1,1,28,28)[i][0],cmap=cm.binary)\n",
    "plt.show()\n",
    "print(test_submission[:9])"
   ]
  },
  {
   "cell_type": "markdown",
   "metadata": {},
   "source": [
    "Results from my submission on 25 epochs: **0.98657** "
   ]
  },
  {
   "cell_type": "code",
   "execution_count": null,
   "metadata": {
    "collapsed": true
   },
   "outputs": [],
   "source": [
    "# save submission to csv\n",
    "pd.DataFrame({\"ImageId\": list(range(1,len(test_data)+1)), \n",
    "              \"Label\": test_submission}).to_csv('MNIST-submission_1-3-2017.csv', index=False,header=True)"
   ]
  }
 ],
 "metadata": {
  "kernelspec": {
   "display_name": "Python [Root]",
   "language": "python",
   "name": "Python [Root]"
  },
  "language_info": {
   "codemirror_mode": {
    "name": "ipython",
    "version": 3
   },
   "file_extension": ".py",
   "mimetype": "text/x-python",
   "name": "python",
   "nbconvert_exporter": "python",
   "pygments_lexer": "ipython3",
   "version": "3.5.2"
  }
 },
 "nbformat": 4,
 "nbformat_minor": 0
}
