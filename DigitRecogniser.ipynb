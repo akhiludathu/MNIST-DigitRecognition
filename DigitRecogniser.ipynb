{
 "cells": [
  {
   "cell_type": "code",
   "execution_count": null,
   "metadata": {
    "collapsed": true
   },
   "outputs": [],
   "source": [
    "import pandas as pd\n",
    "from pandas import Series,DataFrame\n",
    "\n",
    "# numpy, matplotlib, seaborn\n",
    "import numpy as np\n",
    "import matplotlib.pyplot as plt\n",
    "import seaborn as sns\n",
    "sns.set_style('whitegrid')\n",
    "%matplotlib inline\n",
    "\n",
    "# machine learning\n",
    "from sklearn.ensemble import RandomForestClassifier"
   ]
  },
  {
   "cell_type": "code",
   "execution_count": null,
   "metadata": {
    "collapsed": true
   },
   "outputs": [],
   "source": [
    "digits = pd.read_csv('train.csv')"
   ]
  },
  {
   "cell_type": "code",
   "execution_count": null,
   "metadata": {
    "collapsed": true
   },
   "outputs": [],
   "source": [
    "digits_test = pd.read_csv('test.csv')"
   ]
  },
  {
   "cell_type": "code",
   "execution_count": null,
   "metadata": {
    "collapsed": false
   },
   "outputs": [],
   "source": [
    "digits.head()\n",
    "digits.tail()"
   ]
  },
  {
   "cell_type": "code",
   "execution_count": null,
   "metadata": {
    "collapsed": false
   },
   "outputs": [],
   "source": [
    "from sklearn.linear_model import LogisticRegression\n",
    "from sklearn.svm import SVC, LinearSVC\n",
    "from sklearn.ensemble import RandomForestClassifier\n",
    "from sklearn.neighbors import KNeighborsClassifier\n",
    "from sklearn.naive_bayes import GaussianNB\n",
    "from sklearn.neural_network import MLPClassifier\n",
    "from sklearn.ensemble import AdaBoostClassifier\n",
    "from sklearn.ensemble import VotingClassifier\n",
    "\n",
    "alg1 = LogisticRegression(C = 2.5, max_iter = 100, tol = 0.0001, random_state = 5)\n",
    "alg2 = RandomForestClassifier(n_estimators = 1000)\n",
    "alg3 = MLPClassifier(solver='lbfgs', alpha=1e-5,hidden_layer_sizes=(1000, 1000, 1000, 1000), random_state=1)\n",
    "alg4 = AdaBoostClassifier(n_estimators=500)\n",
    "alg5 = SVC()\n",
    "alg6 = neigh = KNeighborsClassifier(n_neighbors=10)\n",
    "alg7 = GaussianNB()\n",
    "\n",
    "eAlg = VotingClassifier(estimators=[('RF',alg2),('MLP',alg3),('Ada',alg4),('SVM',alg5),('NB',alg7)],\n",
    "                        voting='hard',\n",
    "                        weights=[1,1,1,1,1])"
   ]
  },
  {
   "cell_type": "code",
   "execution_count": null,
   "metadata": {
    "collapsed": false
   },
   "outputs": [],
   "source": [
    "#from keras.models import Sequential\n",
    "#model = Sequential()\n",
    "\n",
    "#from keras.layers import Dense, Activation\n",
    "#model.add(Dense(output_dim=64, input_dim=100))\n",
    "#model.add(Activation(\"relu\"))\n",
    "#model.add(Dense(output_dim=10))\n",
    "#model.add(Activation(\"softmax\"))\n",
    "\n",
    "#from keras.optimizers import SGD\n",
    "#model.compile(loss='categorical_crossentropy', optimizer=SGD(lr=0.01, momentum=0.9, nesterov=True))\n",
    "#alg = model"
   ]
  },
  {
   "cell_type": "code",
   "execution_count": null,
   "metadata": {
    "collapsed": false
   },
   "outputs": [],
   "source": [
    "predictors = []\n",
    "for i in range(784):\n",
    "    predictors.append('pixel'+ str(i))\n",
    "#predictors"
   ]
  },
  {
   "cell_type": "code",
   "execution_count": null,
   "metadata": {
    "collapsed": false
   },
   "outputs": [],
   "source": [
    "digits.fillna(0, inplace = True)"
   ]
  },
  {
   "cell_type": "code",
   "execution_count": null,
   "metadata": {
    "collapsed": false
   },
   "outputs": [],
   "source": [
    "from sklearn.cross_validation import KFold\n",
    "kf = KFold(digits.shape[0], n_folds=5, random_state=1)\n",
    "\n",
    "predictions = []\n",
    "for train, test in kf:\n",
    "    train_predictors = digits[predictors].iloc[train,:]\n",
    "    train_target = digits['label'].iloc[train]\n",
    "    eAlg.fit(train_predictors, train_target)\n",
    "    test_predictions = eAlg.predict(digits[predictors].iloc[test,:])\n",
    "    predictions.append(test_predictions)"
   ]
  },
  {
   "cell_type": "code",
   "execution_count": null,
   "metadata": {
    "collapsed": false
   },
   "outputs": [],
   "source": [
    "np.array(predictions).shape"
   ]
  },
  {
   "cell_type": "code",
   "execution_count": null,
   "metadata": {
    "collapsed": false
   },
   "outputs": [],
   "source": [
    "import numpy as np\n",
    "predictions = np.concatenate(predictions,axis=0)\n",
    "\n",
    "from sklearn import metrics\n",
    "accuracy = metrics.accuracy_score(digits[\"label\"], predictions)\n",
    "print(accuracy)"
   ]
  },
  {
   "cell_type": "code",
   "execution_count": null,
   "metadata": {
    "collapsed": false
   },
   "outputs": [],
   "source": []
  },
  {
   "cell_type": "code",
   "execution_count": null,
   "metadata": {
    "collapsed": false
   },
   "outputs": [],
   "source": [
    "digits_test.fillna(0, inplace = True)\n",
    "\n",
    "# Train the algorithm using all the training data\n",
    "eAlg.fit(digits[predictors], digits[\"label\"])\n",
    "\n",
    "# Make predictions using the test set.\n",
    "predictions = eAlg.predict(digits_test[predictors])\n",
    "\n",
    "# Create a new dataframe with only the columns Kaggle wants from the dataset.\n",
    "submission = pd.DataFrame({\n",
    "        \"ImageId\": digits_test.index + 1,\n",
    "        \"Label\": predictions\n",
    "    })"
   ]
  },
  {
   "cell_type": "code",
   "execution_count": null,
   "metadata": {
    "collapsed": false
   },
   "outputs": [],
   "source": [
    "submission.to_csv('digits.csv',index=None)"
   ]
  },
  {
   "cell_type": "code",
   "execution_count": null,
   "metadata": {
    "collapsed": false
   },
   "outputs": [],
   "source": [
    "import matplotlib.pyplot as plt\n",
    "%pylab inline\n",
    "digits.fillna(0, inplace = True)\n",
    "train = digits.drop(\"label\",1)\n",
    "\n",
    "figure(figsize(10,10))\n",
    "for digit_num in range(0,64):\n",
    "    subplot(8,8,digit_num+1)\n",
    "    grid_data = train.iloc[digit_num].as_matrix().reshape(28,28)  # reshape from 1d to 2d pixel array\n",
    "    plt.imshow(grid_data, interpolation = \"none\", cmap = \"bone_r\")\n",
    "    xticks([])\n",
    "    yticks([])\n"
   ]
  },
  {
   "cell_type": "code",
   "execution_count": null,
   "metadata": {
    "collapsed": false
   },
   "outputs": [],
   "source": [
    "from sklearn.neighbors import KNeighborsClassifier\n",
    "from sklearn.decomposition import PCA\n",
    "pca = PCA(n_components=50)\n",
    "pca.fit(train)\n",
    "transform_train = pca.transform(train)\n",
    "transform_test = pca.transform(digits_test)\n",
    "target = digits['label']\n",
    "\n",
    "clf = KNeighborsClassifier()\n",
    "clf.fit(transform_train, target)\n",
    "results=clf.predict(transform_test)\n",
    "\n",
    "# prepare submit file\n",
    "\n",
    "np.savetxt('results.csv', \n",
    "           np.c_[range(1,len(digits_test)+1),results], \n",
    "           delimiter=',', \n",
    "           header = 'ImageId,Label', \n",
    "           comments = '', \n",
    "           fmt='%d')"
   ]
  },
  {
   "cell_type": "code",
   "execution_count": null,
   "metadata": {
    "collapsed": true
   },
   "outputs": [],
   "source": []
  },
  {
   "cell_type": "code",
   "execution_count": null,
   "metadata": {
    "collapsed": true
   },
   "outputs": [],
   "source": []
  },
  {
   "cell_type": "code",
   "execution_count": null,
   "metadata": {
    "collapsed": true
   },
   "outputs": [],
   "source": []
  },
  {
   "cell_type": "code",
   "execution_count": null,
   "metadata": {
    "collapsed": true
   },
   "outputs": [],
   "source": []
  },
  {
   "cell_type": "code",
   "execution_count": null,
   "metadata": {
    "collapsed": true
   },
   "outputs": [],
   "source": []
  },
  {
   "cell_type": "code",
   "execution_count": null,
   "metadata": {
    "collapsed": true
   },
   "outputs": [],
   "source": []
  },
  {
   "cell_type": "code",
   "execution_count": null,
   "metadata": {
    "collapsed": true
   },
   "outputs": [],
   "source": []
  },
  {
   "cell_type": "code",
   "execution_count": null,
   "metadata": {
    "collapsed": true
   },
   "outputs": [],
   "source": []
  },
  {
   "cell_type": "markdown",
   "metadata": {},
   "source": []
  },
  {
   "cell_type": "code",
   "execution_count": null,
   "metadata": {
    "collapsed": false
   },
   "outputs": [],
   "source": [
    "from keras.models import Sequential\n",
    "from keras.layers import Dense, Dropout, Flatten, Convolution2D, MaxPooling2D\n",
    "import pandas as pd\n",
    "from sklearn.preprocessing import StandardScaler\n",
    "\n",
    "data= pd.read_csv('train.csv')\n",
    "data.fillna(0, inplace = True)\n",
    "target = data.pop('label').values\n",
    "y_train = target[2000:]\n",
    "y_valid = target[:2000]\n",
    "X_train = data[2000:].values.astype('float32')\n",
    "X_valid = data[:2000].values.astype('float32')\n",
    "\n",
    "X_train = StandardScaler().fit(X_train).transform(X_train)\n",
    "X_valid = StandardScaler().fit(X_valid).transform(X_valid)\n",
    "\n",
    "X_train = X_train.reshape(-1, 28, 28, 1) # (40000, 28, 28, 1)\n",
    "X_valid = X_valid.reshape(-1, 28, 28, 1) # (2000, 28, 28, 1)\n",
    "\n",
    "\n",
    "from keras.utils import np_utils\n",
    "y_train = np_utils.to_categorical(y_train, 10)\n",
    "y_valid = np_utils.to_categorical(y_valid, 10)\n",
    "\n",
    "\n",
    "\n",
    "model = Sequential()\n",
    "model.add(Convolution2D(32, 3, 3, input_shape=(28,28,1), activation='relu',border_mode = 'valid'))\n",
    "model.add(Convolution2D(32, 3, 3, border_mode='same'))\n",
    "model.add(MaxPooling2D(pool_size=(2,2), dim_ordering='th'))\n",
    "model.add(Dropout(0.3))\n",
    "model.add(Flatten())\n",
    "model.add(Dense(128, activation='relu'))\n",
    "model.add(Dropout(0.5))\n",
    "model.add(Dense(10, activation='softmax'))\n",
    "\n",
    "num_epochs = 6\n",
    "model.compile(optimizer='adadelta', loss='categorical_crossentropy', metrics=['accuracy'])\n",
    "\n",
    "hist = model.fit(X_train,y_train, batch_size=128, nb_epoch=6, \n",
    "                validation_data=(X_valid,y_valid))\n",
    "scores = model.evaluate(X_valid, y_valid, verbose=0)\n",
    "\n",
    "import matplotlib.pyplot as plt \n",
    "\n",
    "plt.plot(hist.history['loss'])\n",
    "plt.plot(hist.history['val_loss'])\n",
    "plt.title('Loss Rate')\n",
    "plt.ylabel('Loss')\n",
    "plt.xlabel('Training interations')\n",
    "plt.legend(['Training', 'Testing'], loc='upper left')\n",
    "plt.show()\n",
    "#plt.savefig('MNIST_loss_plot1.png')\n",
    "\n",
    "plt.plot(hist.history['val_acc'])\n",
    "plt.title('Accuracy Rate')\n",
    "plt.ylabel('Accuracy %')\n",
    "plt.xlabel('Training iterations')\n",
    "plt.legend(['Testing'], loc='upper left')\n",
    "plt.show()\n",
    "#plt.savefig('MNIST_acc_plot1.png')\n",
    "\n",
    "# load test data\n",
    "test_data = pd.read_csv('test.csv').values.astype('float32')\n",
    "test_data = StandardScaler().fit(test_data).transform(test_data)\n",
    "test_data = test_data.reshape(-1,28,28,1)\n",
    "\n",
    "test_submission = model.predict_classes(test_data, verbose=2)"
   ]
  },
  {
   "cell_type": "code",
   "execution_count": 21,
   "metadata": {
    "collapsed": true
   },
   "outputs": [],
   "source": [
    "pd.DataFrame({\"ImageId\": list(range(1,len(test_data)+1)), \n",
    "              \"Label\": test_submission}).to_csv('CNN.csv', index=False,header=True)"
   ]
  },
  {
   "cell_type": "code",
   "execution_count": 24,
   "metadata": {
    "collapsed": false
   },
   "outputs": [],
   "source": [
    "from sklearn.ensemble import AdaBoostClassifier\n",
    "from sklearn.ensemble import RandomForestClassifier\n"
   ]
  },
  {
   "cell_type": "code",
   "execution_count": null,
   "metadata": {
    "collapsed": true
   },
   "outputs": [],
   "source": []
  }
 ],
 "metadata": {
  "anaconda-cloud": {},
  "kernelspec": {
   "display_name": "Python [Root]",
   "language": "python",
   "name": "Python [Root]"
  },
  "language_info": {
   "codemirror_mode": {
    "name": "ipython",
    "version": 3
   },
   "file_extension": ".py",
   "mimetype": "text/x-python",
   "name": "python",
   "nbconvert_exporter": "python",
   "pygments_lexer": "ipython3",
   "version": "3.5.2"
  }
 },
 "nbformat": 4,
 "nbformat_minor": 0
}
